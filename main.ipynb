{
 "cells": [
  {
   "cell_type": "markdown",
   "id": "04c3afce",
   "metadata": {},
   "source": [
    "### Importacíon de dependencias"
   ]
  },
  {
   "cell_type": "code",
   "execution_count": null,
   "id": "be9fac0d",
   "metadata": {},
   "outputs": [],
   "source": [
    "import pandas as pd\n",
    "import matplotlib.pyplot as plt\n",
    "from sklearn.linear_model import LinearRegression"
   ]
  }
 ],
 "metadata": {
  "language_info": {
   "name": "python"
  }
 },
 "nbformat": 4,
 "nbformat_minor": 5
}
